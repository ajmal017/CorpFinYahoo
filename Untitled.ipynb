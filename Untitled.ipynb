{
 "cells": [
  {
   "cell_type": "code",
   "execution_count": 1,
   "metadata": {},
   "outputs": [
    {
     "name": "stdout",
     "output_type": "stream",
     "text": [
      "         Date  S&P_adjclose  S&P_Return  CF_adjclose   CF_Return  \\\n",
      "0  2014-07-01   1930.670044         NaN    38.988461         NaN   \n",
      "1  2014-08-01   2003.369995   45.186355    40.130047   35.136119   \n",
      "2  2014-09-01   1972.290039  -18.616605    44.852627  141.218275   \n",
      "3  2014-10-01   2018.050049   27.841753    41.765213  -82.601556   \n",
      "4  2014-11-01   2067.560059   29.440307    43.074398   37.615563   \n",
      "\n",
      "   SCHW_adjclose  SCHW_Return  L_adjclose   L_Return  \n",
      "0      26.432402          NaN   41.003376        NaN  \n",
      "1      27.156315    32.864800   42.570324  45.858117  \n",
      "2      28.055927    39.752610   40.604050 -55.426611  \n",
      "3      27.368610   -29.397724   42.494888  55.881263  \n",
      "4      27.034491   -14.649732   40.584568 -53.944936  \n"
     ]
    }
   ],
   "source": [
    "import pandas as pd\n",
    "import matplotlib.pyplot as pl\n",
    "\n",
    "tickerlist=['CF','SCHW','L']\n",
    "\n",
    "ttl=pd.read_csv('^GSPC.csv',usecols=['Date','Adj Close'])\n",
    "ttl.columns=['Date','S&P_adjclose']\n",
    "ttl['S&P_Return']=ttl['S&P_adjclose'].rolling(2).apply( lambda x: (x[1]/x[0]-1)*12*100)\n",
    "\n",
    "\n",
    "for i in tickerlist:\n",
    "    company=pd.read_csv(str(i)+'.csv',usecols=['Date','Adj Close'])\n",
    "    company.columns=['Date',str(i)+'_adjclose']\n",
    "    ttl=ttl.merge(company,on='Date',suffixes=('_',''))\n",
    "    ttl[str(i)+'_Return']=ttl[str(i)+'_adjclose'].rolling(2).apply( lambda x: (x[1]/x[0]-1)*12*100)\n",
    "\n",
    "print(ttl.head())"
   ]
  },
  {
   "cell_type": "code",
   "execution_count": 2,
   "metadata": {},
   "outputs": [
    {
     "name": "stdout",
     "output_type": "stream",
     "text": [
      "         Date  S&P_adjclose  S&P_Return  CF_adjclose   CF_Return  \\\n",
      "1  2014-08-01   2003.369995   45.186355    40.130047   35.136119   \n",
      "2  2014-09-01   1972.290039  -18.616605    44.852627  141.218275   \n",
      "3  2014-10-01   2018.050049   27.841753    41.765213  -82.601556   \n",
      "4  2014-11-01   2067.560059   29.440307    43.074398   37.615563   \n",
      "5  2014-12-01   2058.899902   -5.026305    45.045818   54.921348   \n",
      "\n",
      "   SCHW_adjclose  SCHW_Return  L_adjclose   L_Return  \n",
      "1      27.156315    32.864800   42.570324  45.858117  \n",
      "2      28.055927    39.752610   40.604050 -55.426611  \n",
      "3      27.368610   -29.397724   42.494888  55.881263  \n",
      "4      27.034491   -14.649732   40.584568 -53.944936  \n",
      "5      28.880285    81.930627   41.014465  12.711147  \n"
     ]
    }
   ],
   "source": [
    "ttl=ttl.iloc[1:len(ttl.Date)-1]\n",
    "print(ttl.head())"
   ]
  },
  {
   "cell_type": "code",
   "execution_count": 39,
   "metadata": {},
   "outputs": [
    {
     "name": "stderr",
     "output_type": "stream",
     "text": [
      "WARNING:bokeh.embed.util:\n",
      "You are generating standalone HTML/JS output, but trying to use real Python\n",
      "callbacks (i.e. with on_change or on_event). This combination cannot work.\n",
      "\n",
      "Only JavaScript callbacks may be used with standalone output. For more\n",
      "information on JavaScript callbacks with Bokeh, see:\n",
      "\n",
      "    http://bokeh.pydata.org/en/latest/docs/user_guide/interaction/callbacks.html\n",
      "\n",
      "Alternatively, to use real Python callbacks, a Bokeh server application may\n",
      "be used. For more information on building and running Bokeh applications, see:\n",
      "\n",
      "    http://bokeh.pydata.org/en/latest/docs/user_guide/server.html\n",
      "\n"
     ]
    },
    {
     "data": {
      "text/html": [
       "\n",
       "\n",
       "\n",
       "\n",
       "\n",
       "\n",
       "  <div class=\"bk-root\" id=\"0f70df31-9444-4f6c-8c0c-ebc130f72c4c\" data-root-id=\"13012\"></div>\n"
      ]
     },
     "metadata": {},
     "output_type": "display_data"
    },
    {
     "data": {
      "application/javascript": [
       "(function(root) {\n",
       "  function embed_document(root) {\n",
       "    \n",
       "  var docs_json = {\"416a832c-c0ec-4071-a08a-b8279aa9cc9a\":{\"roots\":{\"references\":[{\"attributes\":{\"children\":[{\"id\":\"13010\",\"type\":\"WidgetBox\"},{\"id\":\"13011\",\"type\":\"WidgetBox\"},{\"id\":\"12869\",\"subtype\":\"Figure\",\"type\":\"Plot\"},{\"id\":\"12956\",\"subtype\":\"Figure\",\"type\":\"Plot\"}]},\"id\":\"13012\",\"type\":\"Column\"},{\"attributes\":{\"callback\":null},\"id\":\"12960\",\"type\":\"DataRange1d\"},{\"attributes\":{},\"id\":\"12962\",\"type\":\"LinearScale\"},{\"attributes\":{},\"id\":\"12964\",\"type\":\"LinearScale\"},{\"attributes\":{\"axis_label\":\"S&P Annual Return\",\"formatter\":{\"id\":\"12997\",\"type\":\"BasicTickFormatter\"},\"plot\":{\"id\":\"12956\",\"subtype\":\"Figure\",\"type\":\"Plot\"},\"ticker\":{\"id\":\"12967\",\"type\":\"BasicTicker\"}},\"id\":\"12966\",\"type\":\"LinearAxis\"},{\"attributes\":{},\"id\":\"12967\",\"type\":\"BasicTicker\"},{\"attributes\":{\"grid_line_alpha\":{\"value\":0.3},\"plot\":{\"id\":\"12956\",\"subtype\":\"Figure\",\"type\":\"Plot\"},\"ticker\":{\"id\":\"12967\",\"type\":\"BasicTicker\"}},\"id\":\"12970\",\"type\":\"Grid\"},{\"attributes\":{\"below\":[{\"id\":\"12966\",\"type\":\"LinearAxis\"}],\"left\":[{\"id\":\"12971\",\"type\":\"LinearAxis\"}],\"renderers\":[{\"id\":\"12966\",\"type\":\"LinearAxis\"},{\"id\":\"12970\",\"type\":\"Grid\"},{\"id\":\"12971\",\"type\":\"LinearAxis\"},{\"id\":\"12975\",\"type\":\"Grid\"},{\"id\":\"12984\",\"type\":\"BoxAnnotation\"},{\"id\":\"13002\",\"type\":\"Legend\"},{\"id\":\"12994\",\"type\":\"GlyphRenderer\"},{\"id\":\"13006\",\"type\":\"GlyphRenderer\"}],\"title\":{\"id\":\"12955\",\"type\":\"Title\"},\"toolbar\":{\"id\":\"12982\",\"type\":\"Toolbar\"},\"x_range\":{\"id\":\"12958\",\"type\":\"DataRange1d\"},\"x_scale\":{\"id\":\"12962\",\"type\":\"LinearScale\"},\"y_range\":{\"id\":\"12960\",\"type\":\"DataRange1d\"},\"y_scale\":{\"id\":\"12964\",\"type\":\"LinearScale\"}},\"id\":\"12956\",\"subtype\":\"Figure\",\"type\":\"Plot\"},{\"attributes\":{\"axis_label\":\"Stock Annual Return\",\"formatter\":{\"id\":\"12999\",\"type\":\"BasicTickFormatter\"},\"plot\":{\"id\":\"12956\",\"subtype\":\"Figure\",\"type\":\"Plot\"},\"ticker\":{\"id\":\"12972\",\"type\":\"BasicTicker\"}},\"id\":\"12971\",\"type\":\"LinearAxis\"},{\"attributes\":{},\"id\":\"12972\",\"type\":\"BasicTicker\"},{\"attributes\":{\"dimension\":1,\"grid_line_alpha\":{\"value\":0.3},\"plot\":{\"id\":\"12956\",\"subtype\":\"Figure\",\"type\":\"Plot\"},\"ticker\":{\"id\":\"12972\",\"type\":\"BasicTicker\"}},\"id\":\"12975\",\"type\":\"Grid\"},{\"attributes\":{\"fill_alpha\":{\"value\":0.1},\"fill_color\":{\"value\":\"#1f77b4\"},\"line_alpha\":{\"value\":0.1},\"line_color\":{\"value\":\"#1f77b4\"},\"x\":{\"field\":\"x2\"},\"y\":{\"field\":\"y\"}},\"id\":\"12993\",\"type\":\"Scatter\"},{\"attributes\":{\"fill_color\":{\"value\":\"blue\"},\"line_color\":{\"value\":\"blue\"},\"x\":{\"field\":\"x2\"},\"y\":{\"field\":\"y\"}},\"id\":\"12992\",\"type\":\"Scatter\"},{\"attributes\":{},\"id\":\"13469\",\"type\":\"UnionRenderers\"},{\"attributes\":{\"active_drag\":\"auto\",\"active_inspect\":\"auto\",\"active_multi\":null,\"active_scroll\":\"auto\",\"active_tap\":\"auto\",\"tools\":[{\"id\":\"12976\",\"type\":\"PanTool\"},{\"id\":\"12977\",\"type\":\"WheelZoomTool\"},{\"id\":\"12978\",\"type\":\"BoxZoomTool\"},{\"id\":\"12979\",\"type\":\"SaveTool\"},{\"id\":\"12980\",\"type\":\"ResetTool\"},{\"id\":\"12981\",\"type\":\"HelpTool\"}]},\"id\":\"12982\",\"type\":\"Toolbar\"},{\"attributes\":{},\"id\":\"12976\",\"type\":\"PanTool\"},{\"attributes\":{},\"id\":\"12977\",\"type\":\"WheelZoomTool\"},{\"attributes\":{\"overlay\":{\"id\":\"12984\",\"type\":\"BoxAnnotation\"}},\"id\":\"12978\",\"type\":\"BoxZoomTool\"},{\"attributes\":{},\"id\":\"12979\",\"type\":\"SaveTool\"},{\"attributes\":{},\"id\":\"12980\",\"type\":\"ResetTool\"},{\"attributes\":{},\"id\":\"12981\",\"type\":\"HelpTool\"},{\"attributes\":{\"bottom_units\":\"screen\",\"fill_alpha\":{\"value\":0.5},\"fill_color\":{\"value\":\"lightgrey\"},\"left_units\":\"screen\",\"level\":\"overlay\",\"line_alpha\":{\"value\":1.0},\"line_color\":{\"value\":\"black\"},\"line_dash\":[4,4],\"line_width\":{\"value\":2},\"plot\":null,\"render_mode\":\"css\",\"right_units\":\"screen\",\"top_units\":\"screen\"},\"id\":\"12984\",\"type\":\"BoxAnnotation\"},{\"attributes\":{\"data_source\":{\"id\":\"12867\",\"type\":\"ColumnDataSource\"},\"glyph\":{\"id\":\"12992\",\"type\":\"Scatter\"},\"hover_glyph\":null,\"muted_glyph\":null,\"nonselection_glyph\":{\"id\":\"12993\",\"type\":\"Scatter\"},\"selection_glyph\":null,\"view\":{\"id\":\"12995\",\"type\":\"CDSView\"}},\"id\":\"12994\",\"type\":\"GlyphRenderer\"},{\"attributes\":{\"source\":{\"id\":\"12867\",\"type\":\"ColumnDataSource\"}},\"id\":\"12995\",\"type\":\"CDSView\"},{\"attributes\":{},\"id\":\"12997\",\"type\":\"BasicTickFormatter\"},{\"attributes\":{},\"id\":\"12999\",\"type\":\"BasicTickFormatter\"},{\"attributes\":{\"items\":[{\"id\":\"13003\",\"type\":\"LegendItem\"}],\"location\":\"top_left\",\"plot\":{\"id\":\"12956\",\"subtype\":\"Figure\",\"type\":\"Plot\"}},\"id\":\"13002\",\"type\":\"Legend\"},{\"attributes\":{\"label\":{\"field\":\"c\"},\"renderers\":[{\"id\":\"12994\",\"type\":\"GlyphRenderer\"}]},\"id\":\"13003\",\"type\":\"LegendItem\"},{\"attributes\":{\"callback\":null,\"data\":{\"x\":{\"__ndarray__\":\"TzRWK3eIW8DiJdIYLrVVwOkunAzKw0/ADhKU5zcdRMBo6heFS+0wwDA94RNjfxlABIkID/2sPUBaYYysEH1KQBs/ymjREVNAiU1OexrlWEA=\",\"dtype\":\"float64\",\"shape\":[10]},\"y\":{\"__ndarray__\":\"KKGPX2lKVMDMd8kec7VPwEitc34T1kbAh8U7vGftO8AAYSD3UF0kwBuSbRRbQB5AkPnGBdZOOUBKRzmjyoZFQM8Rj0MqZk5AKm7y8cSiU0A=\",\"dtype\":\"float64\",\"shape\":[10]}},\"selected\":{\"id\":\"13468\",\"type\":\"Selection\"},\"selection_policy\":{\"id\":\"13469\",\"type\":\"UnionRenderers\"}},\"id\":\"13004\",\"type\":\"ColumnDataSource\"},{\"attributes\":{\"data_source\":{\"id\":\"13004\",\"type\":\"ColumnDataSource\"},\"glyph\":{\"id\":\"13005\",\"type\":\"Line\"},\"hover_glyph\":null,\"muted_glyph\":null,\"view\":{\"id\":\"13007\",\"type\":\"CDSView\"}},\"id\":\"13006\",\"type\":\"GlyphRenderer\"},{\"attributes\":{\"source\":{\"id\":\"13004\",\"type\":\"ColumnDataSource\"}},\"id\":\"13007\",\"type\":\"CDSView\"},{\"attributes\":{\"children\":[{\"id\":\"13008\",\"type\":\"Div\"}]},\"id\":\"13011\",\"type\":\"WidgetBox\"},{\"attributes\":{\"children\":[{\"id\":\"13009\",\"type\":\"Select\"}]},\"id\":\"13010\",\"type\":\"WidgetBox\"},{\"attributes\":{\"callback\":null,\"options\":[\"CF\",\"SCHW\",\"L\"],\"title\":\"Option:\",\"value\":\"CF\"},\"id\":\"13009\",\"type\":\"Select\"},{\"attributes\":{\"text\":\"Dependancy of return: 0.7615488897044845\"},\"id\":\"13008\",\"type\":\"Div\"},{\"attributes\":{\"line_alpha\":0.1,\"line_color\":\"#1f77b4\",\"x\":{\"field\":\"x1\"},\"y\":{\"field\":\"x2\"}},\"id\":\"12906\",\"type\":\"Line\"},{\"attributes\":{\"line_color\":\"red\",\"x\":{\"field\":\"x1\"},\"y\":{\"field\":\"x2\"}},\"id\":\"12905\",\"type\":\"Line\"},{\"attributes\":{\"active_drag\":\"auto\",\"active_inspect\":\"auto\",\"active_multi\":null,\"active_scroll\":\"auto\",\"active_tap\":\"auto\",\"tools\":[{\"id\":\"12889\",\"type\":\"PanTool\"},{\"id\":\"12890\",\"type\":\"WheelZoomTool\"},{\"id\":\"12891\",\"type\":\"BoxZoomTool\"},{\"id\":\"12892\",\"type\":\"SaveTool\"},{\"id\":\"12893\",\"type\":\"ResetTool\"},{\"id\":\"12894\",\"type\":\"HelpTool\"}]},\"id\":\"12895\",\"type\":\"Toolbar\"},{\"attributes\":{},\"id\":\"12889\",\"type\":\"PanTool\"},{\"attributes\":{},\"id\":\"12890\",\"type\":\"WheelZoomTool\"},{\"attributes\":{\"overlay\":{\"id\":\"12897\",\"type\":\"BoxAnnotation\"}},\"id\":\"12891\",\"type\":\"BoxZoomTool\"},{\"attributes\":{},\"id\":\"12892\",\"type\":\"SaveTool\"},{\"attributes\":{},\"id\":\"12893\",\"type\":\"ResetTool\"},{\"attributes\":{},\"id\":\"12894\",\"type\":\"HelpTool\"},{\"attributes\":{\"data_source\":{\"id\":\"12867\",\"type\":\"ColumnDataSource\"},\"glyph\":{\"id\":\"12905\",\"type\":\"Line\"},\"hover_glyph\":null,\"muted_glyph\":null,\"nonselection_glyph\":{\"id\":\"12906\",\"type\":\"Line\"},\"selection_glyph\":null,\"view\":{\"id\":\"12908\",\"type\":\"CDSView\"}},\"id\":\"12907\",\"type\":\"GlyphRenderer\"},{\"attributes\":{\"bottom_units\":\"screen\",\"fill_alpha\":{\"value\":0.5},\"fill_color\":{\"value\":\"lightgrey\"},\"left_units\":\"screen\",\"level\":\"overlay\",\"line_alpha\":{\"value\":1.0},\"line_color\":{\"value\":\"black\"},\"line_dash\":[4,4],\"line_width\":{\"value\":2},\"plot\":null,\"render_mode\":\"css\",\"right_units\":\"screen\",\"top_units\":\"screen\"},\"id\":\"12897\",\"type\":\"BoxAnnotation\"},{\"attributes\":{\"source\":{\"id\":\"12867\",\"type\":\"ColumnDataSource\"}},\"id\":\"12908\",\"type\":\"CDSView\"},{\"attributes\":{},\"id\":\"12910\",\"type\":\"DatetimeTickFormatter\"},{\"attributes\":{},\"id\":\"12912\",\"type\":\"BasicTickFormatter\"},{\"attributes\":{},\"id\":\"12885\",\"type\":\"BasicTicker\"},{\"attributes\":{\"mantissas\":[1,2,5],\"max_interval\":500.0,\"num_minor_ticks\":0},\"id\":\"12914\",\"type\":\"AdaptiveTicker\"},{\"attributes\":{\"base\":60,\"mantissas\":[1,2,5,10,15,20,30],\"max_interval\":1800000.0,\"min_interval\":1000.0,\"num_minor_ticks\":0},\"id\":\"12915\",\"type\":\"AdaptiveTicker\"},{\"attributes\":{\"below\":[{\"id\":\"12879\",\"type\":\"DatetimeAxis\"}],\"left\":[{\"id\":\"12884\",\"type\":\"LinearAxis\"}],\"renderers\":[{\"id\":\"12879\",\"type\":\"DatetimeAxis\"},{\"id\":\"12883\",\"type\":\"Grid\"},{\"id\":\"12884\",\"type\":\"LinearAxis\"},{\"id\":\"12888\",\"type\":\"Grid\"},{\"id\":\"12897\",\"type\":\"BoxAnnotation\"},{\"id\":\"12927\",\"type\":\"Legend\"},{\"id\":\"12907\",\"type\":\"GlyphRenderer\"},{\"id\":\"12932\",\"type\":\"GlyphRenderer\"}],\"title\":{\"id\":\"12868\",\"type\":\"Title\"},\"toolbar\":{\"id\":\"12895\",\"type\":\"Toolbar\"},\"x_range\":{\"id\":\"12871\",\"type\":\"DataRange1d\"},\"x_scale\":{\"id\":\"12875\",\"type\":\"LinearScale\"},\"y_range\":{\"id\":\"12873\",\"type\":\"DataRange1d\"},\"y_scale\":{\"id\":\"12877\",\"type\":\"LinearScale\"}},\"id\":\"12869\",\"subtype\":\"Figure\",\"type\":\"Plot\"},{\"attributes\":{\"base\":24,\"mantissas\":[1,2,4,6,8,12],\"max_interval\":43200000.0,\"min_interval\":3600000.0,\"num_minor_ticks\":0},\"id\":\"12916\",\"type\":\"AdaptiveTicker\"},{\"attributes\":{\"days\":[1,2,3,4,5,6,7,8,9,10,11,12,13,14,15,16,17,18,19,20,21,22,23,24,25,26,27,28,29,30,31]},\"id\":\"12917\",\"type\":\"DaysTicker\"},{\"attributes\":{\"days\":[1,4,7,10,13,16,19,22,25,28]},\"id\":\"12918\",\"type\":\"DaysTicker\"},{\"attributes\":{\"days\":[1,8,15,22]},\"id\":\"12919\",\"type\":\"DaysTicker\"},{\"attributes\":{\"days\":[1,15]},\"id\":\"12920\",\"type\":\"DaysTicker\"},{\"attributes\":{\"label\":{\"field\":\"c\"},\"renderers\":[{\"id\":\"12932\",\"type\":\"GlyphRenderer\"}]},\"id\":\"12954\",\"type\":\"LegendItem\"},{\"attributes\":{\"months\":[0,1,2,3,4,5,6,7,8,9,10,11]},\"id\":\"12921\",\"type\":\"MonthsTicker\"},{\"attributes\":{\"callback\":null,\"data\":{\"c\":[\"CF\",\"CF\",\"CF\",\"CF\",\"CF\",\"CF\",\"CF\",\"CF\",\"CF\",\"CF\",\"CF\",\"CF\",\"CF\",\"CF\",\"CF\",\"CF\",\"CF\",\"CF\",\"CF\",\"CF\",\"CF\",\"CF\",\"CF\",\"CF\",\"CF\",\"CF\",\"CF\",\"CF\",\"CF\",\"CF\",\"CF\",\"CF\",\"CF\",\"CF\",\"CF\",\"CF\",\"CF\",\"CF\",\"CF\",\"CF\",\"CF\",\"CF\",\"CF\",\"CF\",\"CF\",\"CF\",\"CF\",\"CF\",\"CF\",\"CF\",\"CF\",\"CF\",\"CF\",\"CF\"],\"x1\":{\"__ndarray__\":\"AABA2+14dEIAAIAt6IJ0QgAAABqQjHRCAABAbIqWdEIAAMBYMqB0QgAAAKssqnRCAABA/Sa0dEIAAEAeKr10QgAAgHAkx3RCAAAAXczQdEIAAECvxtp0QgAAwJtu5HRCAAAA7mjudEIAAEBAY/h0QgAAwCwLAnVCAAAAfwUMdUIAAIBrrRV1QgAAwL2nH3VCAAAAEKIpdUIAAMCW9zJ1QgAAAOnxPHVCAACA1ZlGdUIAAMAnlFB1QgAAQBQ8WnVCAACAZjZkdUIAAMC4MG51QgAAQKXYd3VCAACA99KBdUIAAADkeot1QgAAQDZ1lXVCAACAiG+fdUIAAICpcqh1QgAAwPtssnVCAABA6BS8dUIAAIA6D8Z1QgAAACe3z3VCAABAebHZdUIAAIDLq+N1QgAAALhT7XVCAABACk73dUIAAMD29QB2QgAAAEnwCnZCAABAm+oUdkIAAEC87R12QgAAgA7oJ3ZCAAAA+48xdkIAAEBNijt2QgAAwDkyRXZCAAAAjCxPdkIAAEDeJll2QgAAwMrOYnZCAAAAHclsdkIAAIAJcXZ2QgAAwFtrgHZC\",\"dtype\":\"float64\",\"shape\":[54]},\"x2\":{\"__ndarray__\":\"9saVd9qXRkBKO7LN2Z0ywBVW9h591ztA2CJ37bdwPUCECBrR7xoUwDfvIiben0LAV9k4rr53UEBew+aDFeA0wMZkdg8xcyRA+uaFxOctKUDegionyTY5wDTlzGPAsDdAhoQn8zTGUsCwxljkPLs/wIlNTnsa5VhAgO2IGBFj4z8IHd7bRQk1wFKAVwnycE7AYlNk5u3QE8Bb6QAbHsxTQBiJSK0K6glAf/mjxLdjMkAwqskHXH3xP9YEHluqXUVAQNGj6NJo979QBl6ikrP3v/bwqZSRTzfAkDlD5DSBREB8hn0uRtc1QGurEygTdjVAePx3LqNRRkBA/VqW7ePdv7YM4Xaj0SVA8Jom6HLIK0Bog3q1KhsXQLGEJ5r1NzdAgAn2Maf75D9bzloA4Ck3QFuw4/YxoDpAGLmLWDDbEUBkuLxNBJtEQKzCt0WG2lBARJg6/FBeR8C2yUmAdSFAwHigVWmpGQpATQ6qKBXuOUC85rCoYj4XQP0ToTnpnEVAmS5f5W0oQkDgtvrq0ZwUQFFFi4At0lTAo9fC92RuNUBPNFYrd4hbwAQduEj2mldA\",\"dtype\":\"float64\",\"shape\":[54]},\"y\":{\"__ndarray__\":\"qn/JV2yRQUCtRywb/KZhQEg3huZ/plTAOiuLxMrOQkD4C7q67nVLQHQfucYME2JA2IkCPRO4CkB1DoZmGt9NwLf0oAE/CDBAhPz2YPqlXUCV2Sr6efZJQMDRhhF0tVfA+ab+XL7BOsAlL9RPTYNwwOvK9RY3nGNARN8pKNNbW8C21pPfg3xgwDm5XhbQ3XPAHUeRkGYmcEB5p/LN6bBjwKuB/qxtj1BA/6dFdfGJaMCWp0Kq8AFiwGljNLk44TxAbTfjzJ4LUEA8KfVvvyZOwO4EvnFtwTDAztYF/bXMbkBPJqcnV+FgQF6pRtyGJ2JA6ki0vA1zYMBNGp1KNW5RwPkjnG6RrVrAFOZRWHe4HEDgz5IcyH1OQAu90mYM1E1AdZkqJgRwLcBlX7uVuNtwQA/cAsm3D1hAKNXW/w0dMMAty5UepqxlQLS6+cV0kQbAnw0AMw33QMCL/+i8BnFXwNC+Evz5A0FAIWuUbcQXUkD3qh3GFEBaQIDsZUWZTOE/kuvOs39taUAyRVOIaFZQQMsn+T9hqWHA/1lRtxQ9YsCPCuwQyIpGQLg+Edv74w5A\",\"dtype\":\"float64\",\"shape\":[54]}},\"selected\":{\"id\":\"12951\",\"type\":\"Selection\"},\"selection_policy\":{\"id\":\"12952\",\"type\":\"UnionRenderers\"}},\"id\":\"12867\",\"type\":\"ColumnDataSource\"},{\"attributes\":{\"months\":[0,2,4,6,8,10]},\"id\":\"12922\",\"type\":\"MonthsTicker\"},{\"attributes\":{\"plot\":null,\"text\":\"Stock Annual Return\"},\"id\":\"12868\",\"type\":\"Title\"},{\"attributes\":{\"months\":[0,4,8]},\"id\":\"12923\",\"type\":\"MonthsTicker\"},{\"attributes\":{\"callback\":null},\"id\":\"12873\",\"type\":\"DataRange1d\"},{\"attributes\":{\"months\":[0,6]},\"id\":\"12924\",\"type\":\"MonthsTicker\"},{\"attributes\":{},\"id\":\"12875\",\"type\":\"LinearScale\"},{\"attributes\":{},\"id\":\"12925\",\"type\":\"YearsTicker\"},{\"attributes\":{\"axis_label\":\"Date\",\"formatter\":{\"id\":\"12910\",\"type\":\"DatetimeTickFormatter\"},\"plot\":{\"id\":\"12869\",\"subtype\":\"Figure\",\"type\":\"Plot\"},\"ticker\":{\"id\":\"12880\",\"type\":\"DatetimeTicker\"}},\"id\":\"12879\",\"type\":\"DatetimeAxis\"},{\"attributes\":{\"items\":[{\"id\":\"12928\",\"type\":\"LegendItem\"},{\"id\":\"12954\",\"type\":\"LegendItem\"}],\"location\":\"top_left\",\"plot\":{\"id\":\"12869\",\"subtype\":\"Figure\",\"type\":\"Plot\"}},\"id\":\"12927\",\"type\":\"Legend\"},{\"attributes\":{\"dimension\":1,\"grid_line_alpha\":{\"value\":0.3},\"plot\":{\"id\":\"12869\",\"subtype\":\"Figure\",\"type\":\"Plot\"},\"ticker\":{\"id\":\"12885\",\"type\":\"BasicTicker\"}},\"id\":\"12888\",\"type\":\"Grid\"},{\"attributes\":{\"label\":{\"value\":\"S&P\"},\"renderers\":[{\"id\":\"12907\",\"type\":\"GlyphRenderer\"}]},\"id\":\"12928\",\"type\":\"LegendItem\"},{\"attributes\":{\"axis_label\":\"Price\",\"formatter\":{\"id\":\"12912\",\"type\":\"BasicTickFormatter\"},\"plot\":{\"id\":\"12869\",\"subtype\":\"Figure\",\"type\":\"Plot\"},\"ticker\":{\"id\":\"12885\",\"type\":\"BasicTicker\"}},\"id\":\"12884\",\"type\":\"LinearAxis\"},{\"attributes\":{\"grid_line_alpha\":{\"value\":0.3},\"plot\":{\"id\":\"12869\",\"subtype\":\"Figure\",\"type\":\"Plot\"},\"ticker\":{\"id\":\"12880\",\"type\":\"DatetimeTicker\"}},\"id\":\"12883\",\"type\":\"Grid\"},{\"attributes\":{\"line_color\":\"#666699\",\"line_width\":2,\"x\":{\"field\":\"x\"},\"y\":{\"field\":\"y\"}},\"id\":\"13005\",\"type\":\"Line\"},{\"attributes\":{\"plot\":null,\"text\":\"Stock Annual Return vs. S&P Annual Return\"},\"id\":\"12955\",\"type\":\"Title\"},{\"attributes\":{},\"id\":\"12951\",\"type\":\"Selection\"},{\"attributes\":{\"line_color\":\"blue\",\"x\":{\"field\":\"x1\"},\"y\":{\"field\":\"y\"}},\"id\":\"12930\",\"type\":\"Line\"},{\"attributes\":{},\"id\":\"12952\",\"type\":\"UnionRenderers\"},{\"attributes\":{\"line_alpha\":0.1,\"line_color\":\"#1f77b4\",\"x\":{\"field\":\"x1\"},\"y\":{\"field\":\"y\"}},\"id\":\"12931\",\"type\":\"Line\"},{\"attributes\":{\"num_minor_ticks\":5,\"tickers\":[{\"id\":\"12914\",\"type\":\"AdaptiveTicker\"},{\"id\":\"12915\",\"type\":\"AdaptiveTicker\"},{\"id\":\"12916\",\"type\":\"AdaptiveTicker\"},{\"id\":\"12917\",\"type\":\"DaysTicker\"},{\"id\":\"12918\",\"type\":\"DaysTicker\"},{\"id\":\"12919\",\"type\":\"DaysTicker\"},{\"id\":\"12920\",\"type\":\"DaysTicker\"},{\"id\":\"12921\",\"type\":\"MonthsTicker\"},{\"id\":\"12922\",\"type\":\"MonthsTicker\"},{\"id\":\"12923\",\"type\":\"MonthsTicker\"},{\"id\":\"12924\",\"type\":\"MonthsTicker\"},{\"id\":\"12925\",\"type\":\"YearsTicker\"}]},\"id\":\"12880\",\"type\":\"DatetimeTicker\"},{\"attributes\":{\"data_source\":{\"id\":\"12867\",\"type\":\"ColumnDataSource\"},\"glyph\":{\"id\":\"12930\",\"type\":\"Line\"},\"hover_glyph\":null,\"muted_glyph\":null,\"nonselection_glyph\":{\"id\":\"12931\",\"type\":\"Line\"},\"selection_glyph\":null,\"view\":{\"id\":\"12933\",\"type\":\"CDSView\"}},\"id\":\"12932\",\"type\":\"GlyphRenderer\"},{\"attributes\":{\"source\":{\"id\":\"12867\",\"type\":\"ColumnDataSource\"}},\"id\":\"12933\",\"type\":\"CDSView\"},{\"attributes\":{\"callback\":null},\"id\":\"12871\",\"type\":\"DataRange1d\"},{\"attributes\":{},\"id\":\"13468\",\"type\":\"Selection\"},{\"attributes\":{},\"id\":\"12877\",\"type\":\"LinearScale\"},{\"attributes\":{\"callback\":null},\"id\":\"12958\",\"type\":\"DataRange1d\"}],\"root_ids\":[\"13012\"]},\"title\":\"Bokeh Application\",\"version\":\"1.0.4\"}};\n",
       "  var render_items = [{\"docid\":\"416a832c-c0ec-4071-a08a-b8279aa9cc9a\",\"roots\":{\"13012\":\"0f70df31-9444-4f6c-8c0c-ebc130f72c4c\"}}];\n",
       "  root.Bokeh.embed.embed_items_notebook(docs_json, render_items);\n",
       "\n",
       "  }\n",
       "  if (root.Bokeh !== undefined) {\n",
       "    embed_document(root);\n",
       "  } else {\n",
       "    var attempts = 0;\n",
       "    var timer = setInterval(function(root) {\n",
       "      if (root.Bokeh !== undefined) {\n",
       "        embed_document(root);\n",
       "        clearInterval(timer);\n",
       "      }\n",
       "      attempts++;\n",
       "      if (attempts > 100) {\n",
       "        console.log(\"Bokeh: ERROR: Unable to run BokehJS code because BokehJS library is missing\");\n",
       "        clearInterval(timer);\n",
       "      }\n",
       "    }, 10, root)\n",
       "  }\n",
       "})(window);"
      ],
      "application/vnd.bokehjs_exec.v0+json": ""
     },
     "metadata": {
      "application/vnd.bokehjs_exec.v0+json": {
       "id": "13012"
      }
     },
     "output_type": "display_data"
    },
    {
     "name": "stderr",
     "output_type": "stream",
     "text": [
      "WARNING:bokeh.embed.util:\n",
      "You are generating standalone HTML/JS output, but trying to use real Python\n",
      "callbacks (i.e. with on_change or on_event). This combination cannot work.\n",
      "\n",
      "Only JavaScript callbacks may be used with standalone output. For more\n",
      "information on JavaScript callbacks with Bokeh, see:\n",
      "\n",
      "    http://bokeh.pydata.org/en/latest/docs/user_guide/interaction/callbacks.html\n",
      "\n",
      "Alternatively, to use real Python callbacks, a Bokeh server application may\n",
      "be used. For more information on building and running Bokeh applications, see:\n",
      "\n",
      "    http://bokeh.pydata.org/en/latest/docs/user_guide/server.html\n",
      "\n"
     ]
    }
   ],
   "source": [
    "import numpy as np\n",
    "\n",
    "from bokeh.layouts import gridplot, widgetbox, row, column\n",
    "from bokeh.plotting import figure, show, output_file\n",
    "from bokeh.models import Circle, ColumnDataSource, Div, Grid, Line, LinearAxis, Plot, Range1d, Label\n",
    "from bokeh.io import curdoc, output_notebook\n",
    "from bokeh.models.widgets import Select, Button, Div, PreText\n",
    "\n",
    "ttl.Date=pd.to_datetime(ttl.Date)\n",
    "\n",
    "company='CF'\n",
    "source = ColumnDataSource(data={'x1': ttl['Date'],'x2': ttl['S&P_Return'], 'y1': ttl['CF_Return'],'y2': ttl['CF_adjclose'],'c':[company]*ttl['S&P_Return'].size})\n",
    "\n",
    "p0 = figure(x_axis_type=\"datetime\", plot_width=400, plot_height=400)\n",
    "p0.grid.grid_line_alpha=0.3\n",
    "p0.xaxis.axis_label = 'Date'\n",
    "p0.yaxis.axis_label = 'Stock Closing Price'\n",
    "p0.line('x1', 'y2' ,source=source, color='black', legend='c')\n",
    "p0.legend.location = \"top_left\"\n",
    "\n",
    "p1 = figure(x_axis_type=\"datetime\",plot_width=400, plot_height=400)\n",
    "p1.grid.grid_line_alpha=0.3\n",
    "p1.xaxis.axis_label = 'Date'\n",
    "p1.yaxis.axis_label = 'Stock Annual Return'\n",
    "\n",
    "p1.line('x1', 'x2' ,source=source, color='black', legend='S&P')\n",
    "p1.line('x1', 'y1'  ,source=source, color='blue', legend='c')\n",
    "p1.legend.location = \"top_left\"\n",
    "\n",
    "p2 = figure(plot_width=400, plot_height=400)\n",
    "p2.grid.grid_line_alpha=0.3\n",
    "p2.xaxis.axis_label = 'S&P Annual Return'\n",
    "p2.yaxis.axis_label = str(source.data['c'][0])+' Annual Return'\n",
    "p2.scatter('x2', 'y1' ,source=source, color='orange' , legend='c')\n",
    "p2.legend.location = \"top_left\"\n",
    "\n",
    "p0.x_range = p1.x_range\n",
    "p1.y_range = p2.y_range\n",
    "\n",
    "stats = PreText(text='Stock vs. S&P Slope: '+str(np.polyfit(source.data['x2'],source.data['y1'],1)[0]), width=500,height=50)\n",
    "\n",
    "  \n",
    "x = np.linspace(min(ttl['S&P_Return']), max(ttl['S&P_Return']), 10)\n",
    "y = np.polyfit(source.data['x2'],source.data['y1'],1)[1] + np.polyfit(source.data['x2'],source.data['y1'],1)[0] * x\n",
    "lines_source = ColumnDataSource(data=dict(x=x, y=y))\n",
    "\n",
    "line = Line(x='x', y='y', line_color=\"#666699\", line_width=2)\n",
    "p2.add_glyph(lines_source, line)\n",
    "\n",
    "#div = Div(text='Dependancy of return: '+str(y),\n",
    "#width=200, height=50)\n",
    "\n",
    "def update_plot(attr, old, new):\n",
    "    global company\n",
    "    company=select.value\n",
    "    source.data = {'x1': ttl['Date'],'x2': ttl['S&P_Return'], 'y1': ttl[str(company)+'_Return'],'y2': ttl[str(company)+'_adjclose'],'c':[company]*ttl['S&P_Return'].size}\n",
    "    stats.text = 'Stock vs. S&P Slope: '+str(np.polyfit(source.data['x2'],source.data['y2'],1)[0])\n",
    "    p2.yaxis.axis_label = str(source.data['c'][0])+' Annual Return'\n",
    "\n",
    "\n",
    "select = Select(title=\"Option:\", value=tickerlist[0], options=tickerlist)\n",
    "select.on_change('value',update_plot)\n",
    "\n",
    "\n",
    "\n",
    "layout=column(row([widgetbox(select),stats]),row([p0,p1,p2]))\n",
    "#show(layout)\n",
    "curdoc().add_root(layout)\n",
    "#output_file(\"js_on_change.html\")"
   ]
  },
  {
   "cell_type": "code",
   "execution_count": 31,
   "metadata": {},
   "outputs": [
    {
     "name": "stdout",
     "output_type": "stream",
     "text": [
      "54\n"
     ]
    }
   ],
   "source": [
    "l=[company]*2\n",
    "\n",
    "print(ttl['S&P_Return'].size)"
   ]
  },
  {
   "cell_type": "code",
   "execution_count": null,
   "metadata": {},
   "outputs": [],
   "source": []
  }
 ],
 "metadata": {
  "kernelspec": {
   "display_name": "Python 3",
   "language": "python",
   "name": "python3"
  },
  "language_info": {
   "codemirror_mode": {
    "name": "ipython",
    "version": 3
   },
   "file_extension": ".py",
   "mimetype": "text/x-python",
   "name": "python",
   "nbconvert_exporter": "python",
   "pygments_lexer": "ipython3",
   "version": "3.6.4"
  }
 },
 "nbformat": 4,
 "nbformat_minor": 2
}
